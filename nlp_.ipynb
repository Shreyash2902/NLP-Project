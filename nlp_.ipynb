{
 "cells": [
  {
   "cell_type": "markdown",
   "metadata": {},
   "source": [
    "Name- Gunavant Thakare\n",
    "Roll no- 231080040"
   ]
  },
  {
   "cell_type": "code",
   "execution_count": 8,
   "metadata": {},
   "outputs": [
    {
     "name": "stdout",
     "output_type": "stream",
     "text": [
      "Fake News Data:\n",
      "                                               title  \\\n",
      "0  As U.S. budget fight looms, Republicans flip t...   \n",
      "1  U.S. military to accept transgender recruits o...   \n",
      "2  Senior U.S. Republican senator: 'Let Mr. Muell...   \n",
      "3  FBI Russia probe helped by Australian diplomat...   \n",
      "4  Trump wants Postal Service to charge 'much mor...   \n",
      "\n",
      "                                                text       subject  \\\n",
      "0  WASHINGTON (Reuters) - The head of a conservat...  politicsNews   \n",
      "1  WASHINGTON (Reuters) - Transgender people will...  politicsNews   \n",
      "2  WASHINGTON (Reuters) - The special counsel inv...  politicsNews   \n",
      "3  WASHINGTON (Reuters) - Trump campaign adviser ...  politicsNews   \n",
      "4  SEATTLE/WASHINGTON (Reuters) - President Donal...  politicsNews   \n",
      "\n",
      "                 date  \n",
      "0  December 31, 2017   \n",
      "1  December 29, 2017   \n",
      "2  December 31, 2017   \n",
      "3  December 30, 2017   \n",
      "4  December 29, 2017   \n",
      "\n",
      "True News Data:\n",
      "                                               title  \\\n",
      "0   Donald Trump Sends Out Embarrassing New Year’...   \n",
      "1   Drunk Bragging Trump Staffer Started Russian ...   \n",
      "2   Sheriff David Clarke Becomes An Internet Joke...   \n",
      "3   Trump Is So Obsessed He Even Has Obama’s Name...   \n",
      "4   Pope Francis Just Called Out Donald Trump Dur...   \n",
      "\n",
      "                                                text subject  \\\n",
      "0  Donald Trump just couldn t wish all Americans ...    News   \n",
      "1  House Intelligence Committee Chairman Devin Nu...    News   \n",
      "2  On Friday, it was revealed that former Milwauk...    News   \n",
      "3  On Christmas day, Donald Trump announced that ...    News   \n",
      "4  Pope Francis used his annual Christmas Day mes...    News   \n",
      "\n",
      "                date  \n",
      "0  December 31, 2017  \n",
      "1  December 31, 2017  \n",
      "2  December 30, 2017  \n",
      "3  December 29, 2017  \n",
      "4  December 25, 2017  \n",
      "\n",
      "Fake News Data Statistics:\n",
      "                                                    title  \\\n",
      "count                                               21417   \n",
      "unique                                              20826   \n",
      "top     Factbox: Trump fills top jobs for his administ...   \n",
      "freq                                                   14   \n",
      "\n",
      "                                                     text       subject  \\\n",
      "count                                               21417         21417   \n",
      "unique                                              21192             2   \n",
      "top     (Reuters) - Highlights for U.S. President Dona...  politicsNews   \n",
      "freq                                                    8         11272   \n",
      "\n",
      "                      date  \n",
      "count                21417  \n",
      "unique                 716  \n",
      "top     December 20, 2017   \n",
      "freq                   182  \n",
      "\n",
      "True News Data Statistics:\n",
      "                                                    title   text subject  \\\n",
      "count                                               23481  23481   23481   \n",
      "unique                                              17903  17455       6   \n",
      "top     MEDIA IGNORES Time That Bill Clinton FIRED His...           News   \n",
      "freq                                                    6    626    9050   \n",
      "\n",
      "                date  \n",
      "count          23481  \n",
      "unique          1681  \n",
      "top     May 10, 2017  \n",
      "freq              46  \n",
      "\n",
      "Fake News Data Info:\n",
      "<class 'pandas.core.frame.DataFrame'>\n",
      "RangeIndex: 21417 entries, 0 to 21416\n",
      "Data columns (total 4 columns):\n",
      " #   Column   Non-Null Count  Dtype \n",
      "---  ------   --------------  ----- \n",
      " 0   title    21417 non-null  object\n",
      " 1   text     21417 non-null  object\n",
      " 2   subject  21417 non-null  object\n",
      " 3   date     21417 non-null  object\n",
      "dtypes: object(4)\n",
      "memory usage: 669.4+ KB\n",
      "None\n",
      "\n",
      "True News Data Info:\n",
      "<class 'pandas.core.frame.DataFrame'>\n",
      "RangeIndex: 23481 entries, 0 to 23480\n",
      "Data columns (total 4 columns):\n",
      " #   Column   Non-Null Count  Dtype \n",
      "---  ------   --------------  ----- \n",
      " 0   title    23481 non-null  object\n",
      " 1   text     23481 non-null  object\n",
      " 2   subject  23481 non-null  object\n",
      " 3   date     23481 non-null  object\n",
      "dtypes: object(4)\n",
      "memory usage: 733.9+ KB\n",
      "None\n"
     ]
    }
   ],
   "source": [
    "import pandas as pd\n",
    "\n",
    "# Load the datasets\n",
    "fake_df = pd.read_csv(r\"D:\\nlp project\\True.csv\")\n",
    "true_df = pd.read_csv(r\"D:\\nlp project\\Fake.csv\")\n",
    "\n",
    "# Display the first few rows of the fake news dataset\n",
    "print(\"Fake News Data:\")\n",
    "print(fake_df.head())\n",
    "\n",
    "# Display the first few rows of the true news dataset\n",
    "print(\"\\nTrue News Data:\")\n",
    "print(true_df.head())\n",
    "\n",
    "# Display basic statistics\n",
    "print(\"\\nFake News Data Statistics:\")\n",
    "print(fake_df.describe(include='all'))\n",
    "\n",
    "print(\"\\nTrue News Data Statistics:\")\n",
    "print(true_df.describe(include='all'))\n",
    "\n",
    "# Display information about the datasets\n",
    "print(\"\\nFake News Data Info:\")\n",
    "print(fake_df.info())\n",
    "\n",
    "print(\"\\nTrue News Data Info:\")\n",
    "print(true_df.info())\n",
    "\n",
    "\n"
   ]
  },
  {
   "cell_type": "code",
   "execution_count": 15,
   "metadata": {},
   "outputs": [
    {
     "data": {
      "text/plain": [
       "(21417, 4)"
      ]
     },
     "execution_count": 15,
     "metadata": {},
     "output_type": "execute_result"
    }
   ],
   "source": [
    "fake_df.shape\n"
   ]
  },
  {
   "cell_type": "code",
   "execution_count": 16,
   "metadata": {},
   "outputs": [
    {
     "data": {
      "text/plain": [
       "(23481, 4)"
      ]
     },
     "execution_count": 16,
     "metadata": {},
     "output_type": "execute_result"
    }
   ],
   "source": [
    "true_df.shape"
   ]
  },
  {
   "cell_type": "markdown",
   "metadata": {},
   "source": [
    "Data Cleaning and Preprocessing\n",
    "Merge Datasets and Add Labels"
   ]
  },
  {
   "cell_type": "code",
   "execution_count": 17,
   "metadata": {},
   "outputs": [
    {
     "data": {
      "text/html": [
       "<div>\n",
       "<style scoped>\n",
       "    .dataframe tbody tr th:only-of-type {\n",
       "        vertical-align: middle;\n",
       "    }\n",
       "\n",
       "    .dataframe tbody tr th {\n",
       "        vertical-align: top;\n",
       "    }\n",
       "\n",
       "    .dataframe thead th {\n",
       "        text-align: right;\n",
       "    }\n",
       "</style>\n",
       "<table border=\"1\" class=\"dataframe\">\n",
       "  <thead>\n",
       "    <tr style=\"text-align: right;\">\n",
       "      <th></th>\n",
       "      <th>title</th>\n",
       "      <th>text</th>\n",
       "      <th>subject</th>\n",
       "      <th>date</th>\n",
       "      <th>label</th>\n",
       "    </tr>\n",
       "  </thead>\n",
       "  <tbody>\n",
       "    <tr>\n",
       "      <th>0</th>\n",
       "      <td>PAUL RYAN: American Companies Will Close Witho...</td>\n",
       "      <td>Paul Ryan is just like all the other establish...</td>\n",
       "      <td>politics</td>\n",
       "      <td>Dec 25, 2015</td>\n",
       "      <td>1</td>\n",
       "    </tr>\n",
       "    <tr>\n",
       "      <th>1</th>\n",
       "      <td>Saudi Arabia lifts cinema ban, directors and m...</td>\n",
       "      <td>RIYADH (Reuters) - Saudi Arabia lifted a 35-ye...</td>\n",
       "      <td>worldnews</td>\n",
       "      <td>December 11, 2017</td>\n",
       "      <td>0</td>\n",
       "    </tr>\n",
       "    <tr>\n",
       "      <th>2</th>\n",
       "      <td>BREAKING: FLAG DRAGGING PROTESTER WHO RUSHED S...</td>\n",
       "      <td>We reported about a Trump protester who grabbe...</td>\n",
       "      <td>left-news</td>\n",
       "      <td>Mar 12, 2016</td>\n",
       "      <td>1</td>\n",
       "    </tr>\n",
       "    <tr>\n",
       "      <th>3</th>\n",
       "      <td>Saudi Arabia says Lebanon declares war, deepen...</td>\n",
       "      <td>BEIRUT (Reuters) - Saudi Arabia accused Lebano...</td>\n",
       "      <td>worldnews</td>\n",
       "      <td>November 6, 2017</td>\n",
       "      <td>0</td>\n",
       "    </tr>\n",
       "    <tr>\n",
       "      <th>4</th>\n",
       "      <td>Oh, How The Handsome Have Fallen: Gainesville...</td>\n",
       "      <td>Remember the  Hot Cops  from the Gainesville, ...</td>\n",
       "      <td>News</td>\n",
       "      <td>September 16, 2017</td>\n",
       "      <td>1</td>\n",
       "    </tr>\n",
       "  </tbody>\n",
       "</table>\n",
       "</div>"
      ],
      "text/plain": [
       "                                               title  \\\n",
       "0  PAUL RYAN: American Companies Will Close Witho...   \n",
       "1  Saudi Arabia lifts cinema ban, directors and m...   \n",
       "2  BREAKING: FLAG DRAGGING PROTESTER WHO RUSHED S...   \n",
       "3  Saudi Arabia says Lebanon declares war, deepen...   \n",
       "4   Oh, How The Handsome Have Fallen: Gainesville...   \n",
       "\n",
       "                                                text    subject  \\\n",
       "0  Paul Ryan is just like all the other establish...   politics   \n",
       "1  RIYADH (Reuters) - Saudi Arabia lifted a 35-ye...  worldnews   \n",
       "2  We reported about a Trump protester who grabbe...  left-news   \n",
       "3  BEIRUT (Reuters) - Saudi Arabia accused Lebano...  worldnews   \n",
       "4  Remember the  Hot Cops  from the Gainesville, ...       News   \n",
       "\n",
       "                 date  label  \n",
       "0        Dec 25, 2015      1  \n",
       "1  December 11, 2017       0  \n",
       "2        Mar 12, 2016      1  \n",
       "3   November 6, 2017       0  \n",
       "4  September 16, 2017      1  "
      ]
     },
     "execution_count": 17,
     "metadata": {},
     "output_type": "execute_result"
    }
   ],
   "source": [
    "# Add label column: 0 for fake, 1 for true\n",
    "fake_df['label'] = 0\n",
    "true_df['label'] = 1\n",
    "\n",
    "# Combine the datasets\n",
    "combined_df = pd.concat([fake_df, true_df], ignore_index=True)\n",
    "\n",
    "# Shuffle the combined dataset\n",
    "combined_df = combined_df.sample(frac=1).reset_index(drop=True)\n",
    "\n",
    "# Display the first few rows of the combined dataset\n",
    "combined_df.head()\n"
   ]
  },
  {
   "cell_type": "code",
   "execution_count": 18,
   "metadata": {},
   "outputs": [],
   "source": [
    "#Handle Missing Values"
   ]
  },
  {
   "cell_type": "code",
   "execution_count": 20,
   "metadata": {},
   "outputs": [
    {
     "data": {
      "text/plain": [
       "title      0\n",
       "text       0\n",
       "subject    0\n",
       "date       0\n",
       "label      0\n",
       "dtype: int64"
      ]
     },
     "execution_count": 20,
     "metadata": {},
     "output_type": "execute_result"
    }
   ],
   "source": [
    "# Check for missing values\n",
    "missing_values = combined_df.isnull().sum()\n",
    "missing_values\n"
   ]
  },
  {
   "cell_type": "markdown",
   "metadata": {},
   "source": [
    "Data Preprocessing\n",
    "Tokenization, Stop Word Removal, Stemming, and Lemmatization"
   ]
  },
  {
   "cell_type": "code",
   "execution_count": null,
   "metadata": {},
   "outputs": [],
   "source": [
    "import nltk\n",
    "from nltk.corpus import stopwords\n",
    "from nltk.stem import PorterStemmer, WordNetLemmatizer\n",
    "from sklearn.feature_extraction.text import TfidfVectorizer\n",
    "\n",
    "# Download required NLTK data\n",
    "nltk.download('punkt')\n",
    "nltk.download('stopwords')\n",
    "nltk.download('wordnet')\n",
    "\n"
   ]
  },
  {
   "cell_type": "markdown",
   "metadata": {},
   "source": [
    "Data Preprocessing:"
   ]
  },
  {
   "cell_type": "code",
   "execution_count": 27,
   "metadata": {},
   "outputs": [
    {
     "name": "stdout",
     "output_type": "stream",
     "text": [
      "                                                text  \\\n",
      "0  Paul Ryan is just like all the other establish...   \n",
      "1  RIYADH (Reuters) - Saudi Arabia lifted a 35-ye...   \n",
      "2  We reported about a Trump protester who grabbe...   \n",
      "3  BEIRUT (Reuters) - Saudi Arabia accused Lebano...   \n",
      "4  Remember the  Hot Cops  from the Gainesville, ...   \n",
      "\n",
      "                                      processed_text  \n",
      "0  paul ryan like establish politician side aisl ...  \n",
      "1  riyadh ( reuter ) - saudi arabia lift 35-year-...  \n",
      "2  report trump protest grab ralli today dayton ....  \n",
      "3  beirut ( reuter ) - saudi arabia accus lebanon...  \n",
      "4  rememb hot cop gainesvil , florida polic depar...  \n"
     ]
    }
   ],
   "source": [
    "from nltk.corpus import stopwords\n",
    "from nltk.stem import PorterStemmer, WordNetLemmatizer\n",
    "\n",
    "# Initialize tools\n",
    "stop_words = set(stopwords.words('english'))\n",
    "ps = PorterStemmer()\n",
    "lemmatizer = WordNetLemmatizer()\n",
    "\n",
    "# Define preprocessing function\n",
    "def preprocess_text(text):\n",
    "    # Tokenize\n",
    "    tokens = nltk.word_tokenize(text)\n",
    "    # Remove stop words\n",
    "    tokens = [word for word in tokens if word.lower() not in stop_words]\n",
    "    # Apply stemming and lemmatization\n",
    "    tokens = [ps.stem(word) for word in tokens]\n",
    "    tokens = [lemmatizer.lemmatize(word) for word in tokens]\n",
    "    return ' '.join(tokens)\n",
    "\n",
    "# Apply preprocessing to the text column\n",
    "combined_df['processed_text'] = combined_df['text'].apply(preprocess_text)\n",
    "\n",
    "# Display the first few rows of the processed dataset\n",
    "print(combined_df[['text', 'processed_text']].head())\n"
   ]
  },
  {
   "cell_type": "markdown",
   "metadata": {},
   "source": [
    "TF-IDF Vectorization:"
   ]
  },
  {
   "cell_type": "code",
   "execution_count": 24,
   "metadata": {},
   "outputs": [],
   "source": [
    "from sklearn.feature_extraction.text import TfidfVectorizer\n",
    "\n",
    "# Initialize TF-IDF Vectorizer\n",
    "tfidf_vectorizer = TfidfVectorizer(max_features=5000)\n",
    "\n",
    "# Fit and transform the processed text\n",
    "X = tfidf_vectorizer.fit_transform(combined_df['processed_text'])\n",
    "\n",
    "# Labels\n",
    "y = combined_df['label']\n"
   ]
  },
  {
   "cell_type": "markdown",
   "metadata": {},
   "source": [
    "Model Training:"
   ]
  },
  {
   "cell_type": "code",
   "execution_count": 28,
   "metadata": {},
   "outputs": [
    {
     "name": "stdout",
     "output_type": "stream",
     "text": [
      "Logistic Regression Performance:\n",
      "Accuracy: 0.9905345211581291\n",
      "Precision: 0.990582191780822\n",
      "Recall: 0.9912186763760976\n",
      "F1 Score: 0.9909003318702494\n",
      "\n",
      "\n",
      "Random Forest Performance:\n",
      "Accuracy: 0.9983296213808464\n",
      "Precision: 0.9980736301369864\n",
      "Recall: 0.9987149282501606\n",
      "F1 Score: 0.998394176212397\n",
      "\n",
      "\n",
      "Decision Tree Performance:\n",
      "Accuracy: 0.9965478841870824\n",
      "Precision: 0.996361301369863\n",
      "Recall: 0.9970014992503748\n",
      "F1 Score: 0.9966812975056204\n",
      "\n",
      "\n",
      "Gradient Boosting Performance:\n",
      "Accuracy: 0.9973273942093541\n",
      "Precision: 0.9978563772775991\n",
      "Recall: 0.9970014992503748\n",
      "F1 Score: 0.9974287550889223\n",
      "\n",
      "\n"
     ]
    }
   ],
   "source": [
    "from sklearn.model_selection import train_test_split\n",
    "from sklearn.linear_model import LogisticRegression\n",
    "from sklearn.ensemble import RandomForestClassifier, GradientBoostingClassifier\n",
    "from sklearn.tree import DecisionTreeClassifier\n",
    "from sklearn.metrics import accuracy_score, precision_score, recall_score, f1_score\n",
    "\n",
    "# Split the data\n",
    "X_train, X_test, y_train, y_test = train_test_split(X, y, test_size=0.2, random_state=42)\n",
    "\n",
    "# Initialize models\n",
    "models = {\n",
    "    'Logistic Regression': LogisticRegression(),\n",
    "    'Random Forest': RandomForestClassifier(),\n",
    "    'Decision Tree': DecisionTreeClassifier(),\n",
    "    'Gradient Boosting': GradientBoostingClassifier()\n",
    "}\n",
    "\n",
    "# Train and evaluate models\n",
    "for model_name, model in models.items():\n",
    "    model.fit(X_train, y_train)\n",
    "    y_pred = model.predict(X_test)\n",
    "    print(f\"{model_name} Performance:\")\n",
    "    print(f\"Accuracy: {accuracy_score(y_test, y_pred)}\")\n",
    "    print(f\"Precision: {precision_score(y_test, y_pred)}\")\n",
    "    print(f\"Recall: {recall_score(y_test, y_pred)}\")\n",
    "    print(f\"F1 Score: {f1_score(y_test, y_pred)}\")\n",
    "    print(\"\\n\")\n"
   ]
  }
 ],
 "metadata": {
  "kernelspec": {
   "display_name": "Python 3",
   "language": "python",
   "name": "python3"
  },
  "language_info": {
   "codemirror_mode": {
    "name": "ipython",
    "version": 3
   },
   "file_extension": ".py",
   "mimetype": "text/x-python",
   "name": "python",
   "nbconvert_exporter": "python",
   "pygments_lexer": "ipython3",
   "version": "3.11.9"
  }
 },
 "nbformat": 4,
 "nbformat_minor": 2
}
